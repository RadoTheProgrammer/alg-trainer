{
 "cells": [
  {
   "cell_type": "code",
   "execution_count": 8,
   "metadata": {},
   "outputs": [
    {
     "name": "stdout",
     "output_type": "stream",
     "text": [
      "Defaulting to user installation because normal site-packages is not writeable\n",
      "Requirement already satisfied: rubik-cube in c:\\users\\rrrad\\appdata\\roaming\\python\\python313\\site-packages (0.0.2)\n",
      "Collecting kociemba\n",
      "  Downloading kociemba-1.2.1.tar.gz (6.6 MB)\n",
      "     ---------------------------------------- 0.0/6.6 MB ? eta -:--:--\n",
      "     --- ------------------------------------ 0.5/6.6 MB 3.0 MB/s eta 0:00:03\n",
      "     ---- ----------------------------------- 0.8/6.6 MB 2.4 MB/s eta 0:00:03\n",
      "     ------- -------------------------------- 1.3/6.6 MB 2.5 MB/s eta 0:00:03\n",
      "     ----------- ---------------------------- 1.8/6.6 MB 2.4 MB/s eta 0:00:02\n",
      "     -------------- ------------------------- 2.4/6.6 MB 2.3 MB/s eta 0:00:02\n",
      "     --------------- ------------------------ 2.6/6.6 MB 2.3 MB/s eta 0:00:02\n",
      "     -------------------- ------------------- 3.4/6.6 MB 2.4 MB/s eta 0:00:02\n",
      "     ----------------------- ---------------- 3.9/6.6 MB 2.4 MB/s eta 0:00:02\n",
      "     ------------------------- -------------- 4.2/6.6 MB 2.4 MB/s eta 0:00:02\n",
      "     ---------------------------- ----------- 4.7/6.6 MB 2.3 MB/s eta 0:00:01\n",
      "     ------------------------------ --------- 5.0/6.6 MB 2.2 MB/s eta 0:00:01\n",
      "     --------------------------------- ------ 5.5/6.6 MB 2.3 MB/s eta 0:00:01\n",
      "     ------------------------------------ --- 6.0/6.6 MB 2.3 MB/s eta 0:00:01\n",
      "     ---------------------------------------  6.6/6.6 MB 2.3 MB/s eta 0:00:01\n",
      "     ---------------------------------------- 6.6/6.6 MB 2.3 MB/s eta 0:00:00\n",
      "  Installing build dependencies: started\n",
      "  Installing build dependencies: finished with status 'done'\n",
      "  Getting requirements to build wheel: started\n",
      "  Getting requirements to build wheel: finished with status 'done'\n",
      "  Installing backend dependencies: started\n",
      "  Installing backend dependencies: finished with status 'done'\n",
      "  Preparing metadata (pyproject.toml): started\n",
      "  Preparing metadata (pyproject.toml): finished with status 'done'\n",
      "Requirement already satisfied: cffi>=1.0.0 in c:\\users\\rrrad\\appdata\\roaming\\python\\python313\\site-packages (from kociemba) (1.17.1)\n",
      "Collecting future (from kociemba)\n",
      "  Downloading future-1.0.0-py3-none-any.whl.metadata (4.0 kB)\n",
      "Requirement already satisfied: pycparser in c:\\users\\rrrad\\appdata\\roaming\\python\\python313\\site-packages (from cffi>=1.0.0->kociemba) (2.22)\n",
      "Downloading future-1.0.0-py3-none-any.whl (491 kB)\n",
      "Building wheels for collected packages: kociemba\n",
      "  Building wheel for kociemba (pyproject.toml): started\n",
      "  Building wheel for kociemba (pyproject.toml): finished with status 'done'\n",
      "  Created wheel for kociemba: filename=kociemba-1.2.1-cp313-cp313-win_amd64.whl size=6758397 sha256=17683689e82d62e8f9f850b3a9bfdaff9318082783522d687c1d8a90925f4e49\n",
      "  Stored in directory: c:\\users\\rrrad\\appdata\\local\\pip\\cache\\wheels\\20\\9f\\1b\\53221d595d659c0aac27cfb8329a9778c3fde3fed0c7ed9c56\n",
      "Successfully built kociemba\n",
      "Installing collected packages: future, kociemba\n",
      "Successfully installed future-1.0.0 kociemba-1.2.1\n",
      "Note: you may need to restart the kernel to use updated packages.\n"
     ]
    },
    {
     "name": "stderr",
     "output_type": "stream",
     "text": [
      "\n",
      "[notice] A new release of pip is available: 25.0.1 -> 25.1.1\n",
      "[notice] To update, run: python.exe -m pip install --upgrade pip\n"
     ]
    }
   ],
   "source": [
    "%pip install rubik-cube kociemba"
   ]
  },
  {
   "cell_type": "code",
   "execution_count": 11,
   "metadata": {},
   "outputs": [
    {
     "data": {
      "text/plain": [
       "'UUFUUFUUF RRRRRRRRR FFDFFDFFD DDBDDBDDB LLLLLLLLL UBBUBBUBB'"
      ]
     },
     "execution_count": 11,
     "metadata": {},
     "output_type": "execute_result"
    }
   ],
   "source": [
    "from rubik.cube import Cube\n",
    "c = Cube(\"OOOOOOOOOYYYWWWGGGBBBYYYWWWGGGBBBYYYWWWGGGBBBRRRRRRRRR\")\n",
    "\n",
    "\"UUFUUFUUF RRRRRRRRR FFDFFDFFD DDBDDBDDB LLLLLLLLL UBBUBBUBB\""
   ]
  },
  {
   "cell_type": "code",
   "execution_count": 12,
   "metadata": {},
   "outputs": [
    {
     "ename": "AttributeError",
     "evalue": "'Cube' object has no attribute 'R''",
     "output_type": "error",
     "traceback": [
      "\u001b[31m---------------------------------------------------------------------------\u001b[39m",
      "\u001b[31mAttributeError\u001b[39m                            Traceback (most recent call last)",
      "\u001b[36mCell\u001b[39m\u001b[36m \u001b[39m\u001b[32mIn[12]\u001b[39m\u001b[32m, line 1\u001b[39m\n\u001b[32m----> \u001b[39m\u001b[32m1\u001b[39m \u001b[43mc\u001b[49m\u001b[43m.\u001b[49m\u001b[43msequence\u001b[49m\u001b[43m(\u001b[49m\u001b[33;43m\"\u001b[39;49m\u001b[33;43mR U R\u001b[39;49m\u001b[33;43m'\u001b[39;49m\u001b[33;43m U\u001b[39;49m\u001b[33;43m'\u001b[39;49m\u001b[33;43m\"\u001b[39;49m\u001b[43m)\u001b[49m\n",
      "\u001b[36mFile \u001b[39m\u001b[32m~\\AppData\\Roaming\\Python\\Python313\\site-packages\\rubik\\cube.py:252\u001b[39m, in \u001b[36mCube.sequence\u001b[39m\u001b[34m(self, move_str)\u001b[39m\n\u001b[32m    248\u001b[39m \u001b[38;5;28;01mdef\u001b[39;00m\u001b[38;5;250m \u001b[39m\u001b[34msequence\u001b[39m(\u001b[38;5;28mself\u001b[39m, move_str):\n\u001b[32m    249\u001b[39m \u001b[38;5;250m    \u001b[39m\u001b[33;03m\"\"\"\u001b[39;00m\n\u001b[32m    250\u001b[39m \u001b[33;03m    :param moves: A string containing notated moves separated by spaces: \"L Ri U M Ui B M\"\u001b[39;00m\n\u001b[32m    251\u001b[39m \u001b[33;03m    \"\"\"\u001b[39;00m\n\u001b[32m--> \u001b[39m\u001b[32m252\u001b[39m     moves = [\u001b[38;5;28;43mgetattr\u001b[39;49m\u001b[43m(\u001b[49m\u001b[38;5;28;43mself\u001b[39;49m\u001b[43m,\u001b[49m\u001b[43m \u001b[49m\u001b[43mname\u001b[49m\u001b[43m)\u001b[49m \u001b[38;5;28;01mfor\u001b[39;00m name \u001b[38;5;129;01min\u001b[39;00m move_str.split()]\n\u001b[32m    253\u001b[39m     \u001b[38;5;28;01mfor\u001b[39;00m move \u001b[38;5;129;01min\u001b[39;00m moves:\n\u001b[32m    254\u001b[39m         move()\n",
      "\u001b[31mAttributeError\u001b[39m: 'Cube' object has no attribute 'R''"
     ]
    }
   ],
   "source": [
    "c.sequence(\"R U R' U'\")"
   ]
  },
  {
   "cell_type": "code",
   "execution_count": 6,
   "metadata": {},
   "outputs": [
    {
     "name": "stdout",
     "output_type": "stream",
     "text": [
      "    OOO\n",
      "    OOO\n",
      "    OOO\n",
      "YYY WWW GGG BBB\n",
      "YYY WWW GGG BBB\n",
      "YYY WWW GGG BBB\n",
      "    RRR\n",
      "    RRR\n",
      "    RRR\n"
     ]
    }
   ],
   "source": [
    "print(c)"
   ]
  },
  {
   "cell_type": "code",
   "execution_count": 13,
   "metadata": {},
   "outputs": [
    {
     "name": "stdout",
     "output_type": "stream",
     "text": [
      "59.6 μs ± 704 ns per loop (mean ± std. dev. of 7 runs, 10,000 loops each)\n"
     ]
    }
   ],
   "source": [
    "\n",
    "%%timeit\n",
    "c.B()\n",
    "\n",
    "\"\"\"\n",
    "U: 63.2\n",
    "\"\"\""
   ]
  },
  {
   "cell_type": "code",
   "execution_count": 37,
   "metadata": {},
   "outputs": [
    {
     "data": {
      "text/plain": [
       "'OOWOOWOOWYYYWWRGGGOBBYYYWWRGGGOBBYYYWWRGGGOBBRRBRRBRRB'"
      ]
     },
     "execution_count": 37,
     "metadata": {},
     "output_type": "execute_result"
    }
   ],
   "source": [
    "str(c).replace(\" \", \"\").replace(\"\\n\", \"\")"
   ]
  },
  {
   "cell_type": "code",
   "execution_count": 10,
   "metadata": {},
   "outputs": [],
   "source": [
    "import kociemba"
   ]
  },
  {
   "cell_type": "code",
   "execution_count": null,
   "metadata": {},
   "outputs": [
    {
     "data": {
      "text/plain": [
       "'UUFUUFUU1RRRRRRRRRFFDFFDFFDDDBDDBDDBLLLLLLLLLUBBUBBUBB'"
      ]
     },
     "execution_count": 7,
     "metadata": {},
     "output_type": "execute_result"
    }
   ],
   "source": [
    "cubestring=\"UUFUUFUUF RRRRRRRRR FFDFFDFFD DDBDDBDDB LLLLLLLLL UBBUBBUBB\".replace(\" \", \"\")\n",
    "cubestring\n",
    "\n",
    "\"\"\"\n",
    "Comparison of the two formats:\n",
    "OOOOOOOOO YYYWWWGGGBBBYYYWWWGGGBBBYYYWWWGGGBBBRRRRRRRRR\n",
    "\"\"\""
   ]
  },
  {
   "cell_type": "code",
   "execution_count": 9,
   "metadata": {},
   "outputs": [
    {
     "name": "stdout",
     "output_type": "stream",
     "text": [
      "UUUUUUUUULLLFFFRRRBBBLLLFFFRRRBBBLLLFFFRRRBBBDDDDDDDDD\n"
     ]
    }
   ],
   "source": [
    "# converter from rubik-cube to kociemba format\n",
    "\n",
    "def convert_to_kociemba(c):\n",
    "    \"\"\"Convert from rubik-cube format to kociemba format.\"\"\"\n",
    "    # Define the mapping from rubik-cube to kociemba format\n",
    "    mapping = {\n",
    "        \"O\": \"U\",\n",
    "        \"G\": \"R\",\n",
    "        \"W\": \"F\",\n",
    "        \"R\": \"D\",\n",
    "        \"Y\": \"L\",\n",
    "        \"B\": \"B\"\n",
    "\n",
    "    }\n",
    "    \n",
    "    # Convert the cubestring using the mapping\n",
    "    cubestring = str(c).replace(\" \", \"\").replace(\"\\n\", \"\")\n",
    "    cubestring = ''.join(mapping[char] for char in cubestring if char in mapping)\n",
    "    print(cubestring)\n",
    "    # swap the stickers\n",
    "    U = cubestring[:9]\n",
    "    R = cubestring[15:18]+cubestring[27:30]+cubestring[39:42]\n",
    "    F = cubestring[12:15]+cubestring[24:27]+cubestring[36:39]\n",
    "    D = cubestring[45:]\n",
    "    L = cubestring[9:12]+cubestring[21:24]+cubestring[33:36]\n",
    "    B = cubestring[18:21]+cubestring[30:33]+cubestring[42:45]\n",
    "    return U + R + F + D + L + B\n",
    "k = convert_to_kociemba(c)"
   ]
  },
  {
   "cell_type": "code",
   "execution_count": null,
   "metadata": {},
   "outputs": [
    {
     "ename": "AttributeError",
     "evalue": "'Cube' object has no attribute '(Ri'",
     "output_type": "error",
     "traceback": [
      "\u001b[31m---------------------------------------------------------------------------\u001b[39m",
      "\u001b[31mAttributeError\u001b[39m                            Traceback (most recent call last)",
      "\u001b[36mCell\u001b[39m\u001b[36m \u001b[39m\u001b[32mIn[60]\u001b[39m\u001b[32m, line 3\u001b[39m\n\u001b[32m      1\u001b[39m solved_state = \u001b[33m\"\u001b[39m\u001b[33mOOOOOOOOOYYYWWWGGGBBBYYYWWWGGGBBBYYYWWWGGGBBBRRRRRRRRR\u001b[39m\u001b[33m\"\u001b[39m\n\u001b[32m      2\u001b[39m c = Cube(solved_state)\n\u001b[32m----> \u001b[39m\u001b[32m3\u001b[39m \u001b[43mc\u001b[49m\u001b[43m.\u001b[49m\u001b[43msequence\u001b[49m\u001b[43m(\u001b[49m\u001b[33;43m\"\u001b[39;49m\u001b[33;43mR U (Ri Ui)\u001b[39;49m\u001b[33;43m\"\u001b[39;49m\u001b[43m)\u001b[49m\n\u001b[32m      4\u001b[39m k=convert_to_kociemba(c)\n\u001b[32m      5\u001b[39m kociemba.solve(k)\n",
      "\u001b[36mFile \u001b[39m\u001b[32m~\\AppData\\Local\\Packages\\PythonSoftwareFoundation.Python.3.13_qbz5n2kfra8p0\\LocalCache\\local-packages\\Python313\\site-packages\\rubik\\cube.py:252\u001b[39m, in \u001b[36mCube.sequence\u001b[39m\u001b[34m(self, move_str)\u001b[39m\n\u001b[32m    248\u001b[39m \u001b[38;5;28;01mdef\u001b[39;00m\u001b[38;5;250m \u001b[39m\u001b[34msequence\u001b[39m(\u001b[38;5;28mself\u001b[39m, move_str):\n\u001b[32m    249\u001b[39m \u001b[38;5;250m    \u001b[39m\u001b[33;03m\"\"\"\u001b[39;00m\n\u001b[32m    250\u001b[39m \u001b[33;03m    :param moves: A string containing notated moves separated by spaces: \"L Ri U M Ui B M\"\u001b[39;00m\n\u001b[32m    251\u001b[39m \u001b[33;03m    \"\"\"\u001b[39;00m\n\u001b[32m--> \u001b[39m\u001b[32m252\u001b[39m     moves = [\u001b[38;5;28;43mgetattr\u001b[39;49m\u001b[43m(\u001b[49m\u001b[38;5;28;43mself\u001b[39;49m\u001b[43m,\u001b[49m\u001b[43m \u001b[49m\u001b[43mname\u001b[49m\u001b[43m)\u001b[49m \u001b[38;5;28;01mfor\u001b[39;00m name \u001b[38;5;129;01min\u001b[39;00m move_str.split()]\n\u001b[32m    253\u001b[39m     \u001b[38;5;28;01mfor\u001b[39;00m move \u001b[38;5;129;01min\u001b[39;00m moves:\n\u001b[32m    254\u001b[39m         move()\n",
      "\u001b[31mAttributeError\u001b[39m: 'Cube' object has no attribute '(Ri'"
     ]
    }
   ],
   "source": [
    "solved_state = \"OOOOOOOOOYYYWWWGGGBBBYYYWWWGGGBBBYYYWWWGGGBBBRRRRRRRRR\"\n",
    "c = Cube(solved_state)\n",
    "c.sequence(\"R U Ri Ui\")\n",
    "k=convert_to_kociemba(c)\n",
    "kociemba.solve(k)"
   ]
  },
  {
   "cell_type": "code",
   "execution_count": 62,
   "metadata": {},
   "outputs": [
    {
     "data": {
      "text/plain": [
       "\"R2' U R U R' U' R' U' R' U R'\""
      ]
     },
     "execution_count": 62,
     "metadata": {},
     "output_type": "execute_result"
    }
   ],
   "source": [
    "def reverse_algorithm(algorithm):\n",
    "    \"\"\"Reverse the given algorithm.\"\"\"\n",
    "    new_moves = []\n",
    "    for move in reversed(algorithm.split()):\n",
    "        if move[-1] == \"'\":\n",
    "            move = move[:-1]\n",
    "        else:\n",
    "            move += \"'\"\n",
    "        new_moves.append(move)\n",
    "    return ' '.join(new_moves)\n",
    "def remove_parentheses(algorithm):\n",
    "    \"\"\"Remove parentheses from the algorithm.\"\"\"\n",
    "    return algorithm.replace(\"(\", \"\").replace(\")\", \"\")\n",
    "\n",
    "reverse_algorithm(\"R U' R U R U R U' R' U' R2\") # U perm"
   ]
  },
  {
   "cell_type": "code",
   "execution_count": 39,
   "metadata": {},
   "outputs": [
    {
     "ename": "TypeError",
     "evalue": "Cube.__init__() missing 1 required positional argument: 'cube_str'",
     "output_type": "error",
     "traceback": [
      "\u001b[31m---------------------------------------------------------------------------\u001b[39m",
      "\u001b[31mTypeError\u001b[39m                                 Traceback (most recent call last)",
      "\u001b[36mCell\u001b[39m\u001b[36m \u001b[39m\u001b[32mIn[39]\u001b[39m\u001b[32m, line 1\u001b[39m\n\u001b[32m----> \u001b[39m\u001b[32m1\u001b[39m c = \u001b[43mCube\u001b[49m\u001b[43m(\u001b[49m\u001b[43m)\u001b[49m\n",
      "\u001b[31mTypeError\u001b[39m: Cube.__init__() missing 1 required positional argument: 'cube_str'"
     ]
    }
   ],
   "source": [
    "c = Cube()"
   ]
  },
  {
   "cell_type": "code",
   "execution_count": 63,
   "metadata": {},
   "outputs": [
    {
     "ename": "AttributeError",
     "evalue": "'Cube' object has no attribute 'R2'",
     "output_type": "error",
     "traceback": [
      "\u001b[31m---------------------------------------------------------------------------\u001b[39m",
      "\u001b[31mAttributeError\u001b[39m                            Traceback (most recent call last)",
      "\u001b[36mCell\u001b[39m\u001b[36m \u001b[39m\u001b[32mIn[63]\u001b[39m\u001b[32m, line 1\u001b[39m\n\u001b[32m----> \u001b[39m\u001b[32m1\u001b[39m \u001b[43mc\u001b[49m\u001b[43m.\u001b[49m\u001b[43msequence\u001b[49m\u001b[43m(\u001b[49m\u001b[33;43m\"\u001b[39;49m\u001b[33;43mR2\u001b[39;49m\u001b[33;43m\"\u001b[39;49m\u001b[43m)\u001b[49m\n",
      "\u001b[36mFile \u001b[39m\u001b[32m~\\AppData\\Local\\Packages\\PythonSoftwareFoundation.Python.3.13_qbz5n2kfra8p0\\LocalCache\\local-packages\\Python313\\site-packages\\rubik\\cube.py:252\u001b[39m, in \u001b[36mCube.sequence\u001b[39m\u001b[34m(self, move_str)\u001b[39m\n\u001b[32m    248\u001b[39m \u001b[38;5;28;01mdef\u001b[39;00m\u001b[38;5;250m \u001b[39m\u001b[34msequence\u001b[39m(\u001b[38;5;28mself\u001b[39m, move_str):\n\u001b[32m    249\u001b[39m \u001b[38;5;250m    \u001b[39m\u001b[33;03m\"\"\"\u001b[39;00m\n\u001b[32m    250\u001b[39m \u001b[33;03m    :param moves: A string containing notated moves separated by spaces: \"L Ri U M Ui B M\"\u001b[39;00m\n\u001b[32m    251\u001b[39m \u001b[33;03m    \"\"\"\u001b[39;00m\n\u001b[32m--> \u001b[39m\u001b[32m252\u001b[39m     moves = [\u001b[38;5;28;43mgetattr\u001b[39;49m\u001b[43m(\u001b[49m\u001b[38;5;28;43mself\u001b[39;49m\u001b[43m,\u001b[49m\u001b[43m \u001b[49m\u001b[43mname\u001b[49m\u001b[43m)\u001b[49m \u001b[38;5;28;01mfor\u001b[39;00m name \u001b[38;5;129;01min\u001b[39;00m move_str.split()]\n\u001b[32m    253\u001b[39m     \u001b[38;5;28;01mfor\u001b[39;00m move \u001b[38;5;129;01min\u001b[39;00m moves:\n\u001b[32m    254\u001b[39m         move()\n",
      "\u001b[31mAttributeError\u001b[39m: 'Cube' object has no attribute 'R2'"
     ]
    }
   ],
   "source": [
    "c.sequence(\"R2\")\n"
   ]
  },
  {
   "cell_type": "code",
   "execution_count": null,
   "metadata": {},
   "outputs": [],
   "source": [
    "solved_state_rubik = \"OOOOOOOOOYYYWWWGGGBBBYYYWWWGGGBBBYYYWWWGGGBBBRRRRRRRRR\""
   ]
  },
  {
   "cell_type": "code",
   "execution_count": 29,
   "metadata": {},
   "outputs": [
    {
     "ename": "ValueError",
     "evalue": "Error. Probably cubestring is invalid",
     "output_type": "error",
     "traceback": [
      "\u001b[31m---------------------------------------------------------------------------\u001b[39m",
      "\u001b[31mValueError\u001b[39m                                Traceback (most recent call last)",
      "\u001b[36mCell\u001b[39m\u001b[36m \u001b[39m\u001b[32mIn[29]\u001b[39m\u001b[32m, line 1\u001b[39m\n\u001b[32m----> \u001b[39m\u001b[32m1\u001b[39m \u001b[43mkociemba\u001b[49m\u001b[43m.\u001b[49m\u001b[43msolve\u001b[49m\u001b[43m(\u001b[49m\u001b[33;43m\"\u001b[39;49m\u001b[33;43mOOOOOOOOOYYYWWWGGGBBBYYYWWWGGGBBBYYYWWWGGGBBBRRRRRRRRR\u001b[39;49m\u001b[33;43m\"\u001b[39;49m\u001b[43m)\u001b[49m\n",
      "\u001b[36mFile \u001b[39m\u001b[32m~\\AppData\\Local\\Packages\\PythonSoftwareFoundation.Python.3.13_qbz5n2kfra8p0\\LocalCache\\local-packages\\Python313\\site-packages\\kociemba\\__init__.py:61\u001b[39m, in \u001b[36msolve\u001b[39m\u001b[34m(cubestring, patternstring, max_depth)\u001b[39m\n\u001b[32m     50\u001b[39m \u001b[38;5;28;01mdef\u001b[39;00m\u001b[38;5;250m \u001b[39m\u001b[34msolve\u001b[39m(cubestring, patternstring=\u001b[38;5;28;01mNone\u001b[39;00m, max_depth=\u001b[32m24\u001b[39m):\n\u001b[32m     51\u001b[39m \u001b[38;5;250m    \u001b[39m\u001b[33;03m\"\"\"\u001b[39;00m\n\u001b[32m     52\u001b[39m \u001b[33;03m    Solve a Rubik's cube using two-phase algorithm.\u001b[39;00m\n\u001b[32m     53\u001b[39m \n\u001b[32m   (...)\u001b[39m\u001b[32m     58\u001b[39m \u001b[33;03m    u\"R' D2 R' U2 R F2 D B2 U' R F' U R2 D L2 D' B2 R2 B2 U' B2\"\u001b[39;00m\n\u001b[32m     59\u001b[39m \u001b[33;03m    \"\"\"\u001b[39;00m\n\u001b[32m---> \u001b[39m\u001b[32m61\u001b[39m     \u001b[38;5;28;01mreturn\u001b[39;00m \u001b[43m_solve\u001b[49m\u001b[43m(\u001b[49m\u001b[43mcubestring\u001b[49m\u001b[43m,\u001b[49m\u001b[43m \u001b[49m\u001b[43mpatternstring\u001b[49m\u001b[43m,\u001b[49m\u001b[43m \u001b[49m\u001b[43mmax_depth\u001b[49m\u001b[43m)\u001b[49m\n",
      "\u001b[36mFile \u001b[39m\u001b[32m~\\AppData\\Local\\Packages\\PythonSoftwareFoundation.Python.3.13_qbz5n2kfra8p0\\LocalCache\\local-packages\\Python313\\site-packages\\kociemba\\__init__.py:18\u001b[39m, in \u001b[36m_solve\u001b[39m\u001b[34m(cube, pattern, max_depth)\u001b[39m\n\u001b[32m     16\u001b[39m     \u001b[38;5;28;01mreturn\u001b[39;00m ffi.string(res).strip().decode(\u001b[33m'\u001b[39m\u001b[33mutf-8\u001b[39m\u001b[33m'\u001b[39m)\n\u001b[32m     17\u001b[39m \u001b[38;5;28;01melse\u001b[39;00m:\n\u001b[32m---> \u001b[39m\u001b[32m18\u001b[39m     \u001b[38;5;28;01mraise\u001b[39;00m \u001b[38;5;167;01mValueError\u001b[39;00m(\u001b[33m'\u001b[39m\u001b[33mError. Probably cubestring is invalid\u001b[39m\u001b[33m'\u001b[39m)\n",
      "\u001b[31mValueError\u001b[39m: Error. Probably cubestring is invalid"
     ]
    }
   ],
   "source": [
    "kociemba.solve(\"OOOOOOOOOYYYWWWGGGBBBYYYWWWGGGBBBYYYWWWGGGBBBRRRRRRRRR\")"
   ]
  },
  {
   "cell_type": "code",
   "execution_count": 9,
   "metadata": {},
   "outputs": [
    {
     "data": {
      "text/plain": [
       "<module 'kociemba' from 'C:\\\\Users\\\\rrrad\\\\AppData\\\\Local\\\\Packages\\\\PythonSoftwareFoundation.Python.3.13_qbz5n2kfra8p0\\\\LocalCache\\\\local-packages\\\\Python313\\\\site-packages\\\\kociemba\\\\__init__.py'>"
      ]
     },
     "execution_count": 9,
     "metadata": {},
     "output_type": "execute_result"
    }
   ],
   "source": [
    "kociemba"
   ]
  },
  {
   "cell_type": "code",
   "execution_count": 4,
   "metadata": {},
   "outputs": [
    {
     "name": "stdout",
     "output_type": "stream",
     "text": [
      "    OOO\n",
      "    OOO\n",
      "    OOO\n",
      "YYY WWW GGG BBB\n",
      "YYY WWW GGG BBB\n",
      "YYY WWW GGG BBB\n",
      "    RRR\n",
      "    RRR\n",
      "    RRR\n"
     ]
    }
   ],
   "source": [
    "print(c)"
   ]
  },
  {
   "cell_type": "code",
   "execution_count": 5,
   "metadata": {},
   "outputs": [],
   "source": [
    "c.sequence(\"U\")"
   ]
  },
  {
   "cell_type": "code",
   "execution_count": 7,
   "metadata": {},
   "outputs": [
    {
     "name": "stdout",
     "output_type": "stream",
     "text": [
      "    OOO\n",
      "    OOO\n",
      "    OOO\n",
      "WWW GGG BBB YYY\n",
      "YYY WWW GGG BBB\n",
      "YYY WWW GGG BBB\n",
      "    RRR\n",
      "    RRR\n",
      "    RRR\n"
     ]
    }
   ],
   "source": [
    "print(c)"
   ]
  },
  {
   "cell_type": "code",
   "execution_count": 2,
   "metadata": {},
   "outputs": [
    {
     "name": "stdout",
     "output_type": "stream",
     "text": [
      "34\n",
      "35\n",
      "36\n",
      "37\n",
      "38\n",
      "39\n",
      "40\n",
      "41\n",
      "42\n",
      "43\n"
     ]
    }
   ],
   "source": [
    "N=33\n",
    "S=N\n",
    "while N<S+10:\n",
    "    N+=1\n",
    "    print(N)"
   ]
  },
  {
   "cell_type": "code",
   "execution_count": null,
   "metadata": {},
   "outputs": [],
   "source": []
  }
 ],
 "metadata": {
  "kernelspec": {
   "display_name": "Python 3",
   "language": "python",
   "name": "python3"
  },
  "language_info": {
   "codemirror_mode": {
    "name": "ipython",
    "version": 3
   },
   "file_extension": ".py",
   "mimetype": "text/x-python",
   "name": "python",
   "nbconvert_exporter": "python",
   "pygments_lexer": "ipython3",
   "version": "3.13.3"
  }
 },
 "nbformat": 4,
 "nbformat_minor": 2
}
