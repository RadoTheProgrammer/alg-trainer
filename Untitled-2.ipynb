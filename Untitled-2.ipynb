{
 "cells": [
  {
   "cell_type": "code",
   "execution_count": 23,
   "id": "36ad1421",
   "metadata": {},
   "outputs": [],
   "source": [
    "cube = [[['U', 'U', 'L'], ['U', 'U', 'F'], ['U', 'U', 'F']], [['B', 'L', 'L'], ['L', 'L', 'L'], ['L', 'L', 'L']], [['F', 'F', 'D'], ['F', 'F', 'U'], ['F', 'F', 'F']], [['R', 'R', 'U'], ['B', 'R', 'R'], ['U', 'R', 'R']], [['B', 'R', 'R'], ['B', 'B', 'B'], ['B', 'B', 'B']], [['D', 'D', 'R'], ['D', 'D', 'D'], ['D', 'D', 'D']]]"
   ]
  },
  {
   "cell_type": "code",
   "execution_count": 22,
   "id": "a4c6a720",
   "metadata": {},
   "outputs": [
    {
     "data": {
      "text/plain": [
       "[0, 3, 2, 5, 1, 4]"
      ]
     },
     "execution_count": 22,
     "metadata": {},
     "output_type": "execute_result"
    }
   ],
   "source": [
    "my_order = \"ULFRBD\"\n",
    "k_order = \"URFDLB\"\n",
    "conversion_order = [my_order.index(face) for face in k_order]\n",
    "conversion_order"
   ]
  },
  {
   "cell_type": "code",
   "execution_count": 26,
   "id": "564a2668",
   "metadata": {},
   "outputs": [
    {
     "data": {
      "text/plain": [
       "[[['U', 'U', 'L'], ['U', 'U', 'F'], ['U', 'U', 'F']],\n",
       " [['R', 'R', 'U'], ['B', 'R', 'R'], ['U', 'R', 'R']],\n",
       " [['F', 'F', 'D'], ['F', 'F', 'U'], ['F', 'F', 'F']],\n",
       " [['D', 'D', 'R'], ['D', 'D', 'D'], ['D', 'D', 'D']],\n",
       " [['B', 'L', 'L'], ['L', 'L', 'L'], ['L', 'L', 'L']],\n",
       " [['B', 'R', 'R'], ['B', 'B', 'B'], ['B', 'B', 'B']]]"
      ]
     },
     "execution_count": 26,
     "metadata": {},
     "output_type": "execute_result"
    }
   ],
   "source": [
    "k_cube = [cube[my_order.index(face)] for face in k_order]\n",
    "k_cube"
   ]
  },
  {
   "cell_type": "code",
   "execution_count": 30,
   "id": "578f82ca",
   "metadata": {},
   "outputs": [
    {
     "data": {
      "text/plain": [
       "'UULUUFUUFRRUBRRURRFFDFFUFFFDDRDDDDDDBLLLLLLLLBRRBBBBBB'"
      ]
     },
     "execution_count": 30,
     "metadata": {},
     "output_type": "execute_result"
    }
   ],
   "source": [
    "cstring = \"\".join(\"\".join(\"\".join(facelet for facelet in row) for row in face) for face in k_cube)\n",
    "cstring"
   ]
  },
  {
   "cell_type": "code",
   "execution_count": 4,
   "id": "90d59a5a",
   "metadata": {},
   "outputs": [],
   "source": [
    "import kociemba"
   ]
  },
  {
   "cell_type": "code",
   "execution_count": 39,
   "id": "f30a7fcd",
   "metadata": {},
   "outputs": [],
   "source": [
    "solved_state = \"UUUUUUUUURRRRRRRRRFFFFFFFFFDDDDDDDDDLLLLLLLLLBBBBBBBBB\""
   ]
  },
  {
   "cell_type": "code",
   "execution_count": 40,
   "id": "b1a94eaf",
   "metadata": {},
   "outputs": [
    {
     "data": {
      "text/plain": [
       "\"R U R' D F\""
      ]
     },
     "execution_count": 40,
     "metadata": {},
     "output_type": "execute_result"
    }
   ],
   "source": [
    "kociemba.solve(solved_state,\"UUUUUUBLDFRRFRRLFFLFRLFRLUUFBBDDDDDRFFDLLDBBDBLLBBBURR\")"
   ]
  },
  {
   "cell_type": "code",
   "execution_count": 14,
   "id": "fd0d29b1",
   "metadata": {},
   "outputs": [],
   "source": [
    "    mapping = {\n",
    "        \"W\": \"U\",\n",
    "        \"O\": \"L\",\n",
    "        \"G\": \"F\",\n",
    "        \"R\": \"R\",\n",
    "        \"B\": \"B\",\n",
    "        \"Y\": \"D\"\n",
    "\n",
    "    }"
   ]
  },
  {
   "cell_type": "code",
   "execution_count": 19,
   "id": "e9473e93",
   "metadata": {},
   "outputs": [
    {
     "data": {
      "text/plain": [
       "'UULUUFUUFBLLLLLLLLFFDFFUFFFRRUBRRURRBRRBBBBBBDDRDDDDDD'"
      ]
     },
     "execution_count": 19,
     "metadata": {},
     "output_type": "execute_result"
    }
   ],
   "source": [
    "k=''.join(mapping[char] for char in cstring)\n",
    "k"
   ]
  },
  {
   "cell_type": "code",
   "execution_count": 21,
   "id": "81e68f6d",
   "metadata": {},
   "outputs": [
    {
     "ename": "ValueError",
     "evalue": "Error. Probably cubestring is invalid",
     "output_type": "error",
     "traceback": [
      "\u001b[31m---------------------------------------------------------------------------\u001b[39m",
      "\u001b[31mValueError\u001b[39m                                Traceback (most recent call last)",
      "\u001b[36mCell\u001b[39m\u001b[36m \u001b[39m\u001b[32mIn[21]\u001b[39m\u001b[32m, line 1\u001b[39m\n\u001b[32m----> \u001b[39m\u001b[32m1\u001b[39m \u001b[43mkociemba\u001b[49m\u001b[43m.\u001b[49m\u001b[43msolve\u001b[49m\u001b[43m(\u001b[49m\u001b[33;43m\"\u001b[39;49m\u001b[33;43mUUUUUUUUULLLLLLLLLFFFFFFFFFRRRRRRRRRBBBBBBBBBDDDDDDDDD\u001b[39;49m\u001b[33;43m\"\u001b[39;49m\u001b[43m)\u001b[49m\n",
      "\u001b[36mFile \u001b[39m\u001b[32m~\\AppData\\Roaming\\Python\\Python313\\site-packages\\kociemba\\__init__.py:61\u001b[39m, in \u001b[36msolve\u001b[39m\u001b[34m(cubestring, patternstring, max_depth)\u001b[39m\n\u001b[32m     50\u001b[39m \u001b[38;5;28;01mdef\u001b[39;00m\u001b[38;5;250m \u001b[39m\u001b[34msolve\u001b[39m(cubestring, patternstring=\u001b[38;5;28;01mNone\u001b[39;00m, max_depth=\u001b[32m24\u001b[39m):\n\u001b[32m     51\u001b[39m \u001b[38;5;250m    \u001b[39m\u001b[33;03m\"\"\"\u001b[39;00m\n\u001b[32m     52\u001b[39m \u001b[33;03m    Solve a Rubik's cube using two-phase algorithm.\u001b[39;00m\n\u001b[32m     53\u001b[39m \n\u001b[32m   (...)\u001b[39m\u001b[32m     58\u001b[39m \u001b[33;03m    u\"R' D2 R' U2 R F2 D B2 U' R F' U R2 D L2 D' B2 R2 B2 U' B2\"\u001b[39;00m\n\u001b[32m     59\u001b[39m \u001b[33;03m    \"\"\"\u001b[39;00m\n\u001b[32m---> \u001b[39m\u001b[32m61\u001b[39m     \u001b[38;5;28;01mreturn\u001b[39;00m \u001b[43m_solve\u001b[49m\u001b[43m(\u001b[49m\u001b[43mcubestring\u001b[49m\u001b[43m,\u001b[49m\u001b[43m \u001b[49m\u001b[43mpatternstring\u001b[49m\u001b[43m,\u001b[49m\u001b[43m \u001b[49m\u001b[43mmax_depth\u001b[49m\u001b[43m)\u001b[49m\n",
      "\u001b[36mFile \u001b[39m\u001b[32m~\\AppData\\Roaming\\Python\\Python313\\site-packages\\kociemba\\__init__.py:18\u001b[39m, in \u001b[36m_solve\u001b[39m\u001b[34m(cube, pattern, max_depth)\u001b[39m\n\u001b[32m     16\u001b[39m     \u001b[38;5;28;01mreturn\u001b[39;00m ffi.string(res).strip().decode(\u001b[33m'\u001b[39m\u001b[33mutf-8\u001b[39m\u001b[33m'\u001b[39m)\n\u001b[32m     17\u001b[39m \u001b[38;5;28;01melse\u001b[39;00m:\n\u001b[32m---> \u001b[39m\u001b[32m18\u001b[39m     \u001b[38;5;28;01mraise\u001b[39;00m \u001b[38;5;167;01mValueError\u001b[39;00m(\u001b[33m'\u001b[39m\u001b[33mError. Probably cubestring is invalid\u001b[39m\u001b[33m'\u001b[39m)\n",
      "\u001b[31mValueError\u001b[39m: Error. Probably cubestring is invalid"
     ]
    }
   ],
   "source": [
    "kociemba.solve(\"UUUUUUUUULLLLLLLLLFFFFFFFFFRRRRRRRRRBBBBBBBBBDDDDDDDDD\")"
   ]
  }
 ],
 "metadata": {
  "kernelspec": {
   "display_name": "Python 3",
   "language": "python",
   "name": "python3"
  },
  "language_info": {
   "codemirror_mode": {
    "name": "ipython",
    "version": 3
   },
   "file_extension": ".py",
   "mimetype": "text/x-python",
   "name": "python",
   "nbconvert_exporter": "python",
   "pygments_lexer": "ipython3",
   "version": "3.13.3"
  }
 },
 "nbformat": 4,
 "nbformat_minor": 5
}
