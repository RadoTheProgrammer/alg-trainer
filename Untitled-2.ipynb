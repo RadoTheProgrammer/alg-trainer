{
 "cells": [
  {
   "cell_type": "code",
   "execution_count": 1,
   "id": "36ad1421",
   "metadata": {},
   "outputs": [],
   "source": [
    "cube = [[['W', 'W', 'O'], ['W', 'W', 'G'], ['W', 'W', 'G']], [['B', 'O', 'O'], ['O', 'O', 'O'], ['O', 'O', 'O']], [['G', 'G', 'Y'], ['G', 'G', 'W'], ['G', 'G', 'G']], [['R', 'R', 'W'], ['B', 'R', 'R'], ['W', 'R', 'R']], [['B', 'R', 'R'], ['B', 'B', 'B'], ['B', 'B', 'B']], [['Y', 'Y', 'R'], ['Y', 'Y', 'Y'], ['Y', 'Y', 'Y']]]"
   ]
  },
  {
   "cell_type": "code",
   "execution_count": 3,
   "id": "578f82ca",
   "metadata": {},
   "outputs": [
    {
     "data": {
      "text/plain": [
       "'WWOWWGWWGBOOOOOOOOGGYGGWGGGRRWBRRWRRBRRBBBBBBYYRYYYYYY'"
      ]
     },
     "execution_count": 3,
     "metadata": {},
     "output_type": "execute_result"
    }
   ],
   "source": [
    "\"\".join(\"\".join(\"\".join(facelet for facelet in row) for row in face) for face in cube)"
   ]
  }
 ],
 "metadata": {
  "kernelspec": {
   "display_name": "Python 3",
   "language": "python",
   "name": "python3"
  },
  "language_info": {
   "codemirror_mode": {
    "name": "ipython",
    "version": 3
   },
   "file_extension": ".py",
   "mimetype": "text/x-python",
   "name": "python",
   "nbconvert_exporter": "python",
   "pygments_lexer": "ipython3",
   "version": "3.13.3"
  }
 },
 "nbformat": 4,
 "nbformat_minor": 5
}
